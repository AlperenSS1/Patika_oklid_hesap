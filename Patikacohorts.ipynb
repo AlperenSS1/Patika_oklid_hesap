{
  "nbformat": 4,
  "nbformat_minor": 0,
  "metadata": {
    "colab": {
      "provenance": []
    },
    "kernelspec": {
      "name": "python3",
      "display_name": "Python 3"
    },
    "language_info": {
      "name": "python"
    }
  },
  "cells": [
    {
      "cell_type": "code",
      "execution_count": 1,
      "metadata": {
        "colab": {
          "base_uri": "https://localhost:8080/"
        },
        "id": "HWpvIxR6tfdP",
        "outputId": "9982270d-3fd4-4b5a-e6a7-e8ffd5be9881"
      },
      "outputs": [
        {
          "output_type": "stream",
          "name": "stdout",
          "text": [
            "Minimum mesafe: 1.4142135623730951\n"
          ]
        }
      ],
      "source": [
        "import math\n",
        "\n",
        "# Oklid mesafesi hesap\n",
        "def euclideanDistance(point1, point2):\n",
        "    return math.sqrt((point2[0] - point1[0])**2 + (point2[1] - point1[1])**2)\n",
        "\n",
        "# Noktalarin tanimlanmasi\n",
        "points = [(1, 2), (4, 6), (7, 8), (2, 3)]\n",
        "\n",
        "# Mesafe listesi\n",
        "distances = []\n",
        "\n",
        "# Her nokta arasi mesafe hesaplama\n",
        "for i in range(len(points)):\n",
        "    for j in range(i + 1, len(points)):\n",
        "        distance = euclideanDistance(points[i], points[j])\n",
        "        distances.append(distance)\n",
        "\n",
        "# Minimum mesafe\n",
        "min_distance = min(distances)\n",
        "\n",
        "print(f\"Minimum mesafe: {min_distance}\")\n"
      ]
    }
  ]
}